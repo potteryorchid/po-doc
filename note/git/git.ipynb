{
 "cells": [
  {
   "cell_type": "markdown",
   "metadata": {},
   "source": [
    "# git\n",
    "\n",
    "[toc]\n",
    "\n",
    "## git pull\n",
    "\n",
    "```\n",
    "# pull rejected\n",
    "$ git fetch origin master\n",
    "$ git merge origin FETCH_HEAD\n",
    "$ git pull --rebase origin master\n",
    "$ git rebase --continue\n",
    "```\n",
    "\n",
    "## delete files\n",
    "从历史提交中彻底删除文件或文件夹。\n",
    "\n",
    "- 删除文件\n",
    "```\n",
    "# 首先确保本地版本与远端保持同步，本地执行以下命令从历史提交中彻底删除文件\n",
    "$ git filter-branch --force --index-filter \"git rm --cached --ignore-unmatch 文件绝对路径\" --prune-empty --tag-name-filter cat -- --all\n",
    "\n",
    "# 把本地删除的操作强制推送到远端服务器\n",
    "$ git push -f origin master\n",
    "```\n",
    "\n",
    "- 删除文件夹\n",
    "```\n",
    "# 首先确保本地版本与远端保持同步，本地执行以下命令从历史提交中彻底删除文件\n",
    "$ git filter-branch --force --index-filter \"git rm -r --cached --ignore-unmatch 文件夹绝对路径\" --prune-empty --tag-name-filter cat -- --all\n",
    "\n",
    "# 把本地删除的操作强制推送到远端服务器\n",
    "$ git push -f origin master\n",
    "```"
   ]
  }
 ],
 "metadata": {
  "kernelspec": {
   "display_name": "Python 3.10.5 64-bit",
   "language": "python",
   "name": "python3"
  },
  "language_info": {
   "name": "python",
   "version": "3.10.5"
  },
  "orig_nbformat": 4,
  "vscode": {
   "interpreter": {
    "hash": "64380cbe14616d3ddc407e852378c621a494d7793b4ef4739a0609c0eec6889b"
   }
  }
 },
 "nbformat": 4,
 "nbformat_minor": 2
}
