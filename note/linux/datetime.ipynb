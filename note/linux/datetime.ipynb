{
 "cells": [
  {
   "cell_type": "markdown",
   "metadata": {},
   "source": [
    "# date/time\n",
    "\n",
    "[toc]\n",
    "\n",
    "## time\n",
    "```\n",
    "# show system time\n",
    "$ date\n",
    "\n",
    "# show BIOS time (BIOS time is diffrence in storage from system time.)\n",
    "$ hwclock\n",
    "\n",
    "# set time\n",
    "$ timedatectl set-time \"2012-10-30 18:17:16\"\n",
    "```\n",
    "\n",
    "## timezone\n",
    "```\n",
    "# list timezones\n",
    "$ timedatectl list-timezones\n",
    "\n",
    "# set timezone\n",
    "$ timedatectl set-timezone Asia/Shanghai\n",
    "```\n"
   ]
  }
 ],
 "metadata": {
  "kernelspec": {
   "display_name": "Python 3.10.5 64-bit",
   "language": "python",
   "name": "python3"
  },
  "language_info": {
   "name": "python",
   "version": "3.10.5"
  },
  "orig_nbformat": 4,
  "vscode": {
   "interpreter": {
    "hash": "64380cbe14616d3ddc407e852378c621a494d7793b4ef4739a0609c0eec6889b"
   }
  }
 },
 "nbformat": 4,
 "nbformat_minor": 2
}
