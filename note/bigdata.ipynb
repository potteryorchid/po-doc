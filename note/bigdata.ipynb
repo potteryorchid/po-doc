{
 "cells": [
  {
   "cell_type": "markdown",
   "metadata": {},
   "source": [
    "# Big Data\n",
    "\n",
    "## 数据流通\n",
    "\n",
    "### 数据要素\n",
    "\n",
    "\n",
    "\n",
    "## 数字化&数据伴生\n",
    "\n",
    "\n",
    "## 数据价值\n",
    "\n",
    "\n",
    "## 案例分享\n"
   ]
  }
 ],
 "metadata": {
  "kernelspec": {
   "display_name": "Python 3.10.5 64-bit",
   "language": "python",
   "name": "python3"
  },
  "language_info": {
   "name": "python",
   "version": "3.10.5"
  },
  "orig_nbformat": 4,
  "vscode": {
   "interpreter": {
    "hash": "64380cbe14616d3ddc407e852378c621a494d7793b4ef4739a0609c0eec6889b"
   }
  }
 },
 "nbformat": 4,
 "nbformat_minor": 2
}
