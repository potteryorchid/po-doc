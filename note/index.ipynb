{
 "cells": [
  {
   "cell_type": "markdown",
   "metadata": {},
   "source": [
    "# Notes\n",
    "\n",
    "<details>\n",
    "  \n",
    "  <summary>折叠文本</summary>\n",
    "  @[centos](centos.ipynb)\n",
    "  嗯，是可以书写文本的\n",
    "</details>\n",
    "\n",
    "\n",
    "<details>\n",
    "  <summary>折叠代码块</summary>\n",
    "  <pre><code> \n",
    "     System.out.println(\"虽然可以折叠代码块\");\n",
    "     System.out.println(\"但是代码无法高亮\");\n",
    "  </code></pre>\n",
    "</details>\n",
    "\n",
    "<details>\n",
    "  <summary>折叠代码块</summary>\n",
    "  <pre><blockcode> \n",
    "    [centos](centos.ipynb)\n",
    "     System.out.println(\"虽然可以折叠代码块\");\n",
    "     System.out.println(\"但是代码无法高亮\");\n",
    "  </blockcode></pre>\n",
    "</details>"
   ]
  },
  {
   "cell_type": "markdown",
   "metadata": {},
   "source": [
    "[centos](centos.ipynb)"
   ]
  }
 ],
 "metadata": {
  "kernelspec": {
   "display_name": "Python 3.10.5 64-bit",
   "language": "python",
   "name": "python3"
  },
  "language_info": {
   "name": "python",
   "version": "3.10.5"
  },
  "orig_nbformat": 4,
  "vscode": {
   "interpreter": {
    "hash": "64380cbe14616d3ddc407e852378c621a494d7793b4ef4739a0609c0eec6889b"
   }
  }
 },
 "nbformat": 4,
 "nbformat_minor": 2
}
