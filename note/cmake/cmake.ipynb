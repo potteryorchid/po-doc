{
 "cells": [
  {
   "cell_type": "markdown",
   "metadata": {},
   "source": [
    "# cmake\n",
    "\n",
    "[toc]\n",
    "\n",
    "## cmake\n",
    "\n",
    "```\n",
    "# cmake构建，-S ./表示当前目录中搜索根CMakeLists.txt文件，-B ../build告诉CMake在一个名为build的目录中生成所有的文件。\n",
    "$ $ cmake -S ./ -B ../build -G \"MinGW Makefiles\"\n",
    "```\n",
    "\n",
    "## CMake Generators\n",
    "### Command-Line Build Tool Generators\n",
    "These generators support command-line build tools. In order to use them, one must launch CMake from a command-line prompt whose environment is already configured for the chosen compiler and build tool.\n",
    "\n",
    "```\n",
    "# Makefile Generators\n",
    "Borland Makefiles\n",
    "MSYS Makefiles\n",
    "MinGW Makefiles\n",
    "NMake Makefiles\n",
    "NMake Makefiles JOM\n",
    "Unix Makefiles\n",
    "Watcom WMake\n",
    "\n",
    "# Ninja Generators\n",
    "Ninja\n",
    "Ninja Multi-Config\n",
    "```\n",
    "\n",
    "### IDE Build Tool Generators\n",
    "These generators support Integrated Development Environment (IDE) project files. Since the IDEs configure their own environment one may launch CMake from any environment.\n",
    "\n",
    "```\n",
    "# Visual Studio Generators\n",
    "Visual Studio 6\n",
    "Visual Studio 7\n",
    "Visual Studio 7 .NET 2003\n",
    "Visual Studio 8 2005\n",
    "Visual Studio 9 2008\n",
    "Visual Studio 10 2010\n",
    "Visual Studio 11 2012\n",
    "Visual Studio 12 2013\n",
    "Visual Studio 14 2015\n",
    "Visual Studio 15 2017\n",
    "Visual Studio 16 2019\n",
    "Visual Studio 17 2022\n",
    "\n",
    "# Other Generators\n",
    "Green Hills MULTI\n",
    "Xcode\n",
    "```\n",
    "\n",
    "### Extra Generators\n",
    "Some of the CMake Generators listed in the cmake(1) command-line tool --help output may have variants that specify an extra generator for an auxiliary IDE tool. Such generator names have the form <extra-generator> - <main-generator>. The following extra generators are known to CMake.\n",
    "\n",
    "```\n",
    "CodeBlocks\n",
    "CodeLite\n",
    "Eclipse CDT4\n",
    "Kate\n",
    "Sublime Text 2\n",
    "```"
   ]
  }
 ],
 "metadata": {
  "kernelspec": {
   "display_name": "Python 3.10.5 64-bit",
   "language": "python",
   "name": "python3"
  },
  "language_info": {
   "name": "python",
   "version": "3.10.5"
  },
  "orig_nbformat": 4,
  "vscode": {
   "interpreter": {
    "hash": "64380cbe14616d3ddc407e852378c621a494d7793b4ef4739a0609c0eec6889b"
   }
  }
 },
 "nbformat": 4,
 "nbformat_minor": 2
}
